{
 "cells": [
  {
   "cell_type": "code",
   "execution_count": 261,
   "id": "9ab36b3e",
   "metadata": {
    "scrolled": true
   },
   "outputs": [],
   "source": [
    "from bs4 import BeautifulSoup\n",
    "import pandas\n",
    "import requests\n",
    "\n",
    "webpage = requests.get(\"http://bkref.com/pi/shareit/Gujys\")\n",
    "\n",
    "parsed_webpage = BeautifulSoup(webpage.content, \"html.parser\")\n"
   ]
  },
  {
   "cell_type": "markdown",
   "id": "8f997f14",
   "metadata": {},
   "source": [
    "### Grabbing and cleaning data "
   ]
  },
  {
   "cell_type": "code",
   "execution_count": 262,
   "id": "4b440334",
   "metadata": {
    "scrolled": false
   },
   "outputs": [
    {
     "name": "stdout",
     "output_type": "stream",
     "text": [
      "['1', 'LeBronJames', '38', '47', '1388']\n",
      "['2', 'RussellWestbrook', '34', '52', '827']\n",
      "['3', 'DennisSchröder', '29', '48', '596']\n",
      "['4', 'TroyBrownJr.', '23', '56', '385']\n",
      "['5', 'AnthonyDavis', '29', '38', '980']\n",
      "['6', 'AustinReaves', '24', '44', '472']\n",
      "['7', 'PatrickBeverley', '34', '45', '288']\n",
      "['8', 'LonnieWalkerIV', '24', '45', '584']\n",
      "['9', 'ThomasBryant', '25', '41', '496']\n",
      "['10', 'WenyenGabriel', '25', '48', '295']\n",
      "['11', 'KendrickNunn', '27', '39', '262']\n",
      "['12', 'MaxChristie', '19', '36', '126']\n",
      "['13', 'JuanToscano-Anderson', '29', '30', '81']\n",
      "['14', 'RuiHachimura', '24', '14', '143']\n",
      "['15', 'DamianJones', '27', '22', '55']\n",
      "['16', 'MalikBeasley', '26', '6', '79']\n",
      "['17', 'JarredVanderbilt', '23', '6', '47']\n",
      "['18', 'MattRyan', '25', '12', '47']\n",
      "['19', \"D'AngeloRussell\", '26', '4', '54']\n",
      "['20', 'MoBamba', '24', '4', '14']\n",
      "['21', 'ColeSwider', '23', '6', '9']\n",
      "['22', 'ScottyPippenJr.', '22', '6', '14']\n",
      "['23', 'SterlingBrown', '27', '4', '0']\n",
      "['24', 'DavonReed', '27', '4', '6']\n"
     ]
    }
   ],
   "source": [
    "# list for raw data\n",
    "raw_data = []\n",
    "\n",
    "# finds all tables in the parsed webpage and adds them to raw data list\n",
    "table = parsed_webpage.find_all('table')\n",
    "\n",
    "for row in table:\n",
    "    line = row.text\n",
    "    raw_data.append(line)\n",
    "\n",
    "table = raw_data[0].split(\" \")\n",
    "table = table[14:]\n",
    "\n",
    "clean_table = []\n",
    "\n",
    "for i in range(len(table)//2):\n",
    "    if i == 4 or i == 8 or i == 22:\n",
    "        row = table[i] + table[i+1] + table[i+2]\n",
    "\n",
    "    else:\n",
    "        row = table[i] + table[i+1]\n",
    "        table.pop(i+1)\n",
    "    clean_table.append(row)\n",
    "        \n",
    "clean_table[3] = clean_table[3] + clean_table[4]\n",
    "clean_table.pop(4)\n",
    "clean_table[3] = clean_table[3][:20]\n",
    "clean_table.pop(8)\n",
    "clean_table[21] = clean_table[21][10:] + clean_table[22]\n",
    "clean_table[20] = clean_table[20][:16]\n",
    "clean_table.pop(22)\n",
    "\n",
    "\n",
    "final_table = []\n",
    "\n",
    "# specific transformations for each line\n",
    "row = clean_table[0]\n",
    "clean_row = [row[0], row[1:12], row[12:14], row[14: 16], row[16:]]\n",
    "final_table.append(clean_row)\n",
    "\n",
    "row = clean_table[1]\n",
    "clean_row = [row[0], row[1:17], row[17:19], row[19: 21], row[21:]]\n",
    "final_table.append(clean_row)\n",
    "\n",
    "row = clean_table[2]\n",
    "clean_row = [row[0], row[1:15], row[15:17], row[17: 19], row[19:]]\n",
    "final_table.append(clean_row)\n",
    "\n",
    "row = clean_table[3]\n",
    "clean_row = [row[0], row[1:13], row[13:15], row[15: 17], row[17:]]\n",
    "final_table.append(clean_row)\n",
    "\n",
    "row = clean_table[4]\n",
    "clean_row = [row[0], row[1:13], row[13:15], row[15: 17], row[17:]]\n",
    "final_table.append(clean_row)\n",
    "\n",
    "row = clean_table[5]\n",
    "clean_row = [row[0], row[1:13], row[13:15], row[15: 17], row[17:]]\n",
    "final_table.append(clean_row)\n",
    "\n",
    "row = clean_table[6]\n",
    "clean_row = [row[0], row[1:16], row[16:18], row[18: 20], row[20:]]\n",
    "final_table.append(clean_row)\n",
    "\n",
    "row = clean_table[7]\n",
    "clean_row = [row[0], row[1:15], row[15:17], row[17: 19], row[19:]]\n",
    "final_table.append(clean_row)\n",
    "\n",
    "row = clean_table[8]\n",
    "clean_row = [row[0], row[1:13], row[13:15], row[15: 17], row[17:]]\n",
    "final_table.append(clean_row)\n",
    "\n",
    "row = clean_table[9]\n",
    "clean_row = [row[0:2], row[2:15], row[15:17], row[17: 19], row[19:]]\n",
    "final_table.append(clean_row)\n",
    "\n",
    "row = clean_table[10]\n",
    "clean_row = [row[0:2], row[2:14], row[14:16], row[16: 18], row[18:]]\n",
    "final_table.append(clean_row)\n",
    "\n",
    "row = clean_table[11]\n",
    "clean_row = [row[0:2], row[2:13], row[13:15], row[15: 17], row[17:]]\n",
    "final_table.append(clean_row)\n",
    "\n",
    "row = clean_table[12]\n",
    "clean_row = [row[0:2], row[2:22], row[22:24], row[24: 26], row[26:]]\n",
    "final_table.append(clean_row)\n",
    "\n",
    "row = clean_table[13]\n",
    "clean_row = [row[0:2], row[2:14], row[14:16], row[16: 18], row[18:]]\n",
    "final_table.append(clean_row)\n",
    "\n",
    "row = clean_table[14]\n",
    "clean_row = [row[0:2], row[2:13], row[13:15], row[15: 17], row[17:]]\n",
    "final_table.append(clean_row)\n",
    "\n",
    "row = clean_table[15]\n",
    "clean_row = [row[0:2], row[2:14], row[14:16], row[16: 17], row[17:]]\n",
    "final_table.append(clean_row)\n",
    "\n",
    "row = clean_table[16]\n",
    "clean_row = [row[0:2], row[2:18], row[18:20], row[20: 21], row[21:]]\n",
    "final_table.append(clean_row)\n",
    "\n",
    "row = clean_table[17]\n",
    "clean_row = [row[0:2], row[2:10], row[10:12], row[12: 14], row[14:]]\n",
    "final_table.append(clean_row)\n",
    "\n",
    "row = clean_table[18]\n",
    "clean_row = [row[0:2], row[2:17], row[17:19], row[19: 20], row[20:]]\n",
    "final_table.append(clean_row)\n",
    "\n",
    "row = clean_table[19]\n",
    "clean_row = [row[0:2], row[2:9], row[9:11], row[11: 12], row[12:]]\n",
    "final_table.append(clean_row)\n",
    "\n",
    "row = clean_table[20]\n",
    "clean_row = [row[0:2], row[2:12], row[12:14], row[14: 15], row[15:]]\n",
    "final_table.append(clean_row)\n",
    "\n",
    "row = clean_table[21]\n",
    "clean_row = [row[0:2], row[2:17], row[17:19], row[19: 20], row[20:]]\n",
    "final_table.append(clean_row)\n",
    "\n",
    "row = clean_table[22]\n",
    "clean_row = [row[0:2], row[2:15], row[15:17], row[17: 18], row[18:]]\n",
    "final_table.append(clean_row)\n",
    "\n",
    "row = clean_table[23]\n",
    "clean_row = [row[0:2], row[2:11], row[11:13], row[13: 14], row[14:]]\n",
    "final_table.append(clean_row)\n",
    "\n",
    "for row in final_table:\n",
    "    print(row)\n",
    "\n",
    "\n"
   ]
  },
  {
   "cell_type": "markdown",
   "id": "bd11da34",
   "metadata": {},
   "source": [
    "### Transforming clean data into a datafram "
   ]
  },
  {
   "cell_type": "code",
   "execution_count": 266,
   "id": "ea69fb7a",
   "metadata": {
    "scrolled": true
   },
   "outputs": [
    {
     "name": "stdout",
     "output_type": "stream",
     "text": [
      "[{'Rank': '1', 'Player': 'LeBronJames', 'Age': '38', 'Games': '47', 'Points': '1388'}, {'Rank': '2', 'Player': 'RussellWestbrook', 'Age': '34', 'Games': '52', 'Points': '827'}, {'Rank': '3', 'Player': 'DennisSchröder', 'Age': '29', 'Games': '48', 'Points': '596'}, {'Rank': '4', 'Player': 'TroyBrownJr.', 'Age': '23', 'Games': '56', 'Points': '385'}, {'Rank': '5', 'Player': 'AnthonyDavis', 'Age': '29', 'Games': '38', 'Points': '980'}, {'Rank': '6', 'Player': 'AustinReaves', 'Age': '24', 'Games': '44', 'Points': '472'}, {'Rank': '7', 'Player': 'PatrickBeverley', 'Age': '34', 'Games': '45', 'Points': '288'}, {'Rank': '8', 'Player': 'LonnieWalkerIV', 'Age': '24', 'Games': '45', 'Points': '584'}, {'Rank': '9', 'Player': 'ThomasBryant', 'Age': '25', 'Games': '41', 'Points': '496'}, {'Rank': '10', 'Player': 'WenyenGabriel', 'Age': '25', 'Games': '48', 'Points': '295'}, {'Rank': '11', 'Player': 'KendrickNunn', 'Age': '27', 'Games': '39', 'Points': '262'}, {'Rank': '12', 'Player': 'MaxChristie', 'Age': '19', 'Games': '36', 'Points': '126'}, {'Rank': '13', 'Player': 'JuanToscano-Anderson', 'Age': '29', 'Games': '30', 'Points': '81'}, {'Rank': '14', 'Player': 'RuiHachimura', 'Age': '24', 'Games': '14', 'Points': '143'}, {'Rank': '15', 'Player': 'DamianJones', 'Age': '27', 'Games': '22', 'Points': '55'}, {'Rank': '16', 'Player': 'MalikBeasley', 'Age': '26', 'Games': '6', 'Points': '79'}, {'Rank': '17', 'Player': 'JarredVanderbilt', 'Age': '23', 'Games': '6', 'Points': '47'}, {'Rank': '18', 'Player': 'MattRyan', 'Age': '25', 'Games': '12', 'Points': '47'}, {'Rank': '19', 'Player': \"D'AngeloRussell\", 'Age': '26', 'Games': '4', 'Points': '54'}, {'Rank': '20', 'Player': 'MoBamba', 'Age': '24', 'Games': '4', 'Points': '14'}, {'Rank': '21', 'Player': 'ColeSwider', 'Age': '23', 'Games': '6', 'Points': '9'}, {'Rank': '22', 'Player': 'ScottyPippenJr.', 'Age': '22', 'Games': '6', 'Points': '14'}, {'Rank': '23', 'Player': 'SterlingBrown', 'Age': '27', 'Games': '4', 'Points': '0'}, {'Rank': '24', 'Player': 'DavonReed', 'Age': '27', 'Games': '4', 'Points': '6'}]\n"
     ]
    }
   ],
   "source": [
    "column_names = ['Rank', 'Player', 'Age', 'Games', 'Points']\n",
    "\n",
    "# creating the csv file \n",
    "import csv\n",
    "with open('B-Ball Player Statistics', 'w') as file:\n",
    "    csv.writer(file).writerow(column_names)\n",
    "    csv.writer(file).writerows(final_table)\n",
    "    \n",
    "    \n",
    "processed_data = []\n",
    "\n",
    "# transforms data into dictionary format to convert into data frame\n",
    "for line in final_table:\n",
    "    row = {}\n",
    "    for i in range(len(line)):\n",
    "        row[column_names[i]] = line[i] \n",
    "    processed_data.append(row)\n",
    "        \n",
    "# sanity check        \n",
    "print(processed_data)\n"
   ]
  },
  {
   "cell_type": "markdown",
   "id": "98a7e042",
   "metadata": {},
   "source": [
    "### Creating data base with transformed data"
   ]
  },
  {
   "cell_type": "code",
   "execution_count": 279,
   "id": "372841cf",
   "metadata": {},
   "outputs": [
    {
     "data": {
      "text/html": [
       "<div>\n",
       "<style scoped>\n",
       "    .dataframe tbody tr th:only-of-type {\n",
       "        vertical-align: middle;\n",
       "    }\n",
       "\n",
       "    .dataframe tbody tr th {\n",
       "        vertical-align: top;\n",
       "    }\n",
       "\n",
       "    .dataframe thead th {\n",
       "        text-align: right;\n",
       "    }\n",
       "</style>\n",
       "<table border=\"1\" class=\"dataframe\">\n",
       "  <thead>\n",
       "    <tr style=\"text-align: right;\">\n",
       "      <th></th>\n",
       "      <th>Rank</th>\n",
       "      <th>Player</th>\n",
       "      <th>Age</th>\n",
       "      <th>Games</th>\n",
       "      <th>Points</th>\n",
       "    </tr>\n",
       "  </thead>\n",
       "  <tbody>\n",
       "    <tr>\n",
       "      <th>0</th>\n",
       "      <td>1</td>\n",
       "      <td>LeBronJames</td>\n",
       "      <td>38</td>\n",
       "      <td>47</td>\n",
       "      <td>1388</td>\n",
       "    </tr>\n",
       "    <tr>\n",
       "      <th>1</th>\n",
       "      <td>2</td>\n",
       "      <td>RussellWestbrook</td>\n",
       "      <td>34</td>\n",
       "      <td>52</td>\n",
       "      <td>827</td>\n",
       "    </tr>\n",
       "    <tr>\n",
       "      <th>2</th>\n",
       "      <td>3</td>\n",
       "      <td>DennisSchröder</td>\n",
       "      <td>29</td>\n",
       "      <td>48</td>\n",
       "      <td>596</td>\n",
       "    </tr>\n",
       "    <tr>\n",
       "      <th>3</th>\n",
       "      <td>4</td>\n",
       "      <td>TroyBrownJr.</td>\n",
       "      <td>23</td>\n",
       "      <td>56</td>\n",
       "      <td>385</td>\n",
       "    </tr>\n",
       "    <tr>\n",
       "      <th>4</th>\n",
       "      <td>5</td>\n",
       "      <td>AnthonyDavis</td>\n",
       "      <td>29</td>\n",
       "      <td>38</td>\n",
       "      <td>980</td>\n",
       "    </tr>\n",
       "  </tbody>\n",
       "</table>\n",
       "</div>"
      ],
      "text/plain": [
       "  Rank            Player Age Games Points\n",
       "0    1       LeBronJames  38    47   1388\n",
       "1    2  RussellWestbrook  34    52    827\n",
       "2    3    DennisSchröder  29    48    596\n",
       "3    4      TroyBrownJr.  23    56    385\n",
       "4    5      AnthonyDavis  29    38    980"
      ]
     },
     "execution_count": 279,
     "metadata": {},
     "output_type": "execute_result"
    }
   ],
   "source": [
    "# creating the data frame\n",
    "processed_data = pandas.DataFrame(processed_data)\n",
    "\n",
    "# Printing first few rows of the table as a sanity check\n",
    "processed_data.head()"
   ]
  },
  {
   "cell_type": "markdown",
   "id": "af321abf",
   "metadata": {},
   "source": [
    "### Analyzing Data with a Histogram"
   ]
  },
  {
   "cell_type": "code",
   "execution_count": 278,
   "id": "f87114aa",
   "metadata": {
    "scrolled": false
   },
   "outputs": [
    {
     "data": {
      "image/png": "[encoded data removed]",
      "text/plain": [
       "<Figure size 640x480 with 1 Axes>"
      ]
     },
     "metadata": {},
     "output_type": "display_data"
    }
   ],
   "source": [
    "hist = processed_data[\"Age\"].hist(bins= 10)"
   ]
  },
  {
   "cell_type": "markdown",
   "id": "1cc3b9eb",
   "metadata": {},
   "source": [
    "# I chose to analyze the age of the players, to figure out what the most common range of ages are in the current Lakers Team.\n",
    "\n",
    "# The graph shows us that the most common ages in the Lakers are between 24 - 27, while older ages show a slow decline, whereas younger ages show an abrupt drop."
   ]
  },
  {
   "cell_type": "code",
   "execution_count": null,
   "id": "980b98c1",
   "metadata": {},
   "outputs": [],
   "source": []
  }
 ],
 "metadata": {
  "kernelspec": {
   "display_name": "Python 3 (ipykernel)",
   "language": "python",
   "name": "python3"
  },
  "language_info": {
   "codemirror_mode": {
    "name": "ipython",
    "version": 3
   },
   "file_extension": ".py",
   "mimetype": "text/x-python",
   "name": "python",
   "nbconvert_exporter": "python",
   "pygments_lexer": "ipython3",
   "version": "3.9.13"
  }
 },
 "nbformat": 4,
 "nbformat_minor": 5
}
